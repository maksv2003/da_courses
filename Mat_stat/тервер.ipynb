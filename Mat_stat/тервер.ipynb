{
 "cells": [
  {
   "cell_type": "code",
   "execution_count": 27,
   "metadata": {},
   "outputs": [
    {
     "data": {
      "text/plain": [
       "0.703"
      ]
     },
     "execution_count": 27,
     "metadata": {},
     "output_type": "execute_result"
    }
   ],
   "source": [
    "# import random\n",
    "# k = 0\n",
    "# x = 0\n",
    "# for i in range(1,7):\n",
    "#     for j in range(1,7):\n",
    "#         k+=1\n",
    "#         if i*j <= 10:\n",
    "#             x += 1\n",
    "# p = x / k\n",
    "# round(p,3)\n",
    "\n",
    "# from scipy import special\n",
    "# n = 7  \n",
    "# k = 1   \n",
    "# x = special.comb(n, k)*(0.5**1)*(0.5**6)\n",
    "# x\n",
    "# n = 7  \n",
    "# k = 1\n",
    "# y = special.comb(n, k)*((1/6)**1)*((5/6)**6)\n",
    "# y\n",
    "# pa = x*3/4 + y*1/4\n",
    "# p = ((1/4)*y)/pa\n",
    "# round(p,3)\n",
    "# k = 10\n",
    "# z = special.comb(n, k)*(0.9**10)*(0.1**0)\n",
    "# x+y+z\n",
    "# n=5\n",
    "# k=2\n",
    "# p=15/20\n",
    "# q=1-p\n",
    "# x = special.comb(n, k)*(p**k)*(q**(n-k))\n",
    "# round(x,3)\n",
    "\n",
    "\n",
    "\n",
    "pxy3 = 0.04\n",
    "pxy2 = 0.06\n",
    "pxy1 = 0.09\n",
    "py3 = 0.8\n",
    "py2 = 0.15\n",
    "py1 = 0.05\n",
    "p = 0\n",
    "pyx1 = py1 * pxy1\n",
    "pyx2 = py2 * pxy2\n",
    "pyx3 = py3 * pxy3\n",
    "px = pxy1*py1 + pxy2*py2 + pxy3*py3\n",
    "p1 = pyx1/px\n",
    "p2 = pyx2/px\n",
    "p3 = pyx3/px\n",
    "# if p1 < p2:\n",
    "#     p1 = p2\n",
    "# if p1 < p3:\n",
    "#     p = p3\n",
    "round(p3, 3)\n"
   ]
  },
  {
   "cell_type": "code",
   "execution_count": null,
   "metadata": {},
   "outputs": [],
   "source": []
  },
  {
   "cell_type": "code",
   "execution_count": null,
   "metadata": {},
   "outputs": [],
   "source": []
  }
 ],
 "metadata": {
  "kernelspec": {
   "display_name": "Python 3",
   "language": "python",
   "name": "python3"
  },
  "language_info": {
   "codemirror_mode": {
    "name": "ipython",
    "version": 3
   },
   "file_extension": ".py",
   "mimetype": "text/x-python",
   "name": "python",
   "nbconvert_exporter": "python",
   "pygments_lexer": "ipython3",
   "version": "3.7.3"
  }
 },
 "nbformat": 4,
 "nbformat_minor": 4
}
