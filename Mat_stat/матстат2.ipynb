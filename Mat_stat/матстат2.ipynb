{
 "cells": [
  {
   "cell_type": "code",
   "execution_count": 59,
   "metadata": {},
   "outputs": [
    {
     "data": {
      "text/plain": [
       "3.09"
      ]
     },
     "execution_count": 59,
     "metadata": {},
     "output_type": "execute_result"
    }
   ],
   "source": [
    "import pandas as pd\n",
    "import numpy as np\n",
    "import seaborn as sns\n",
    "import matplotlib.pyplot as plt\n",
    "import scipy\n",
    "df = pd.read_csv('/mnt/HC_Volume_18315164/home-jupyter/jupyter-m-vinokurov/conversion.csv')\n",
    "\n",
    "df['CPC'] = df['Spent'] / df['Clicks']\n",
    "df['CTR'] = df['Clicks'] / df['Impressions']\n",
    "ctr = df['CTR'].describe()\n",
    "maxid = df.loc[df['CTR'].idxmax()]['ad_id']\n",
    "\n",
    "# df = df.query(\"xyz_campaign_id == '916'\")\n",
    "# sns.histplot(data=df, x='CTR', hue='xyz_campaign_id', bins=20, kde=True)\n",
    "# plt.show()\n",
    "\n",
    "# cpc = df['CPC'].describe()\n",
    "# cpc = scipy.stats.iqr(df['CPC'], nan_policy='omit')\n",
    "# round(cpc, 2)\n",
    "\n",
    "# plt.figure(figsize=(10, 6))\n",
    "# sns.distplot(df[df['gender'].notna()].loc[:, 'CPC'].dropna(), kde=False, bins=20, label='Общий CPC')\n",
    "# sns.distplot(df[df['gender'] == 'Male'].loc[:, 'CPC'].dropna(), kde=False, bins=20, label='Мужской CPC')\n",
    "# sns.distplot(df[df['gender'] == 'Female'].loc[:, 'CPC'].dropna(), kde=False, bins=20, label='Женский CPC')\n",
    "# plt.show()\n",
    "\n",
    "clicks = df[df['ad_id'] == 1121814]['Clicks'].iloc[0]\n",
    "approved_conversion = df[df['ad_id'] == 1121814]['Approved_Conversion'].iloc[0]\n",
    "conversion_rate = (approved_conversion / clicks) * 100\n",
    "round(conversion_rate, 2)\n"
   ]
  }
 ],
 "metadata": {
  "kernelspec": {
   "display_name": "Python 3",
   "language": "python",
   "name": "python3"
  },
  "language_info": {
   "codemirror_mode": {
    "name": "ipython",
    "version": 3
   },
   "file_extension": ".py",
   "mimetype": "text/x-python",
   "name": "python",
   "nbconvert_exporter": "python",
   "pygments_lexer": "ipython3",
   "version": "3.7.3"
  }
 },
 "nbformat": 4,
 "nbformat_minor": 4
}
