{
 "cells": [
  {
   "cell_type": "code",
   "execution_count": 69,
   "metadata": {},
   "outputs": [
    {
     "name": "stdout",
     "output_type": "stream",
     "text": [
      "22\n",
      "0.81\n"
     ]
    },
    {
     "data": {
      "text/plain": [
       "65"
      ]
     },
     "execution_count": 69,
     "metadata": {},
     "output_type": "execute_result"
    }
   ],
   "source": [
    "#\n",
    "\n",
    "# #10 задание\n",
    "# a = 68.7+(-0.06*50)+(-0.05*80)+(-0.57*90)\n",
    "# a = round(a,1) \n",
    "# print ('10 задание:',a)\n",
    "\n",
    "# #6 номер\n",
    "# b = (150 - 7.68 - 3.66*10 - 0.82*8) / 7.62\n",
    "# b = round(b)\n",
    "# print ('6 задание:',b)\n",
    "\n",
    "\n",
    "\n",
    "import statsmodels.api as sm\n",
    "import statsmodels.formula.api as smf\n",
    "import pandas as pd\n",
    "df = pd.read_csv('/mnt/HC_Volume_18315164/home-jupyter/jupyter-m-vinokurov/cars.csv')\n",
    "\n",
    "#print(df.isnull().sum())\n",
    "\n",
    "df['company'] = df['CarName'].apply(lambda x: x.split(' ')[0])\n",
    "df.drop(['CarName', 'car_ID'], axis=1, inplace=True)\n",
    "# labels = df['company'].nunique()\n",
    "# print(labels)\n",
    "\n",
    "df['company'].replace({'maxda': 'mazda', 'Nissan': 'nissan', 'porcshce': 'porsche', 'toyouta': 'toyota', 'vokswagen': 'volkswagen', 'vw': 'volkswagen'}, inplace=True)\n",
    "labels1 = df['company'].nunique()\n",
    "print(labels1)\n",
    "\n",
    "columns = ['company', 'fueltype', 'aspiration', 'carbody', 'drivewheel', 'wheelbase', 'carlength', 'carwidth', 'curbweight', 'enginetype', 'cylindernumber', 'enginesize', 'boreratio', 'horsepower', 'price']\n",
    "df = df[columns]\n",
    "df\n",
    "cor = df.corr()\n",
    "cor = cor.loc['price', 'horsepower']\n",
    "print(round(corph,2))\n",
    "\n",
    "df_dummy = pd.get_dummies(data=df[['company','fueltype', 'aspiration', 'carbody', 'drivewheel', 'enginetype', 'cylindernumber']], drop_first=True)\n",
    "cars = pd.get_dummies(data=df, drop_first=True)\n",
    "cars\n",
    "\n",
    "model = smf.ols(formula='price ~ horsepower', data=df).fit()\n",
    "r2 = model.rsquared\n",
    "r2 = round(r_squared * 100)\n",
    "r2\n",
    "\n",
    "# model_all_predictors = smf.ols(formula='price ~ horsepower + company + fueltype + aspiration + carbody + wheelbase + carlength + carwidth + curbweight + enginetype + cylindernumber + enginesize + boreratio', data=cars).fit()\n",
    "# model_without_company = smf.ols(formula='price ~ horsepower + fueltype + aspiration + carbody + drivewheel + wheelbase + carlength + carwidth + curbweight + enginetype + cylindernumber + enginesize + boreratio', data=cars).fit()\n",
    "# model_horsepower = smf.ols(formula='price ~ horsepower', data=cars).fit()\n",
    "# print(\"Модель со всеми предикторами:\")\n",
    "# print(model_all_predictors.summary())\n",
    "# print(\"\\nМодель со всеми предикторами, кроме марок машин:\")\n",
    "# print(model_without_company.summary())\n",
    "# print(\"\\nМодель с одним предиктором - horsepower:\")\n",
    "# print(model_horsepower.summary())\n",
    "# cars"
   ]
  },
  {
   "cell_type": "code",
   "execution_count": null,
   "metadata": {},
   "outputs": [],
   "source": []
  }
 ],
 "metadata": {
  "kernelspec": {
   "display_name": "Python 3",
   "language": "python",
   "name": "python3"
  },
  "language_info": {
   "codemirror_mode": {
    "name": "ipython",
    "version": 3
   },
   "file_extension": ".py",
   "mimetype": "text/x-python",
   "name": "python",
   "nbconvert_exporter": "python",
   "pygments_lexer": "ipython3",
   "version": "3.7.3"
  }
 },
 "nbformat": 4,
 "nbformat_minor": 4
}
