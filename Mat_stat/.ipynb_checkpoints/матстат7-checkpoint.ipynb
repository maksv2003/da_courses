{
 "cells": [
  {
   "cell_type": "code",
   "execution_count": 19,
   "metadata": {},
   "outputs": [
    {
     "name": "stdout",
     "output_type": "stream",
     "text": [
      "10 задание: 10.4\n",
      "6 задание: 13\n"
     ]
    }
   ],
   "source": [
    "#10 задание\n",
    "a = 68.7+(-0.06*50)+(-0.05*80)+(-0.57*90)\n",
    "a = round(a,1) \n",
    "print ('10 задание:',a)\n",
    "\n",
    "#6 номер\n",
    "b = (150 - 7.68 - 3.66*10 - 0.82*8) / 7.62\n",
    "b = round(b)\n",
    "print ('6 задание:',b)\n",
    "\n",
    "\n",
    "\n"
   ]
  },
  {
   "cell_type": "code",
   "execution_count": null,
   "metadata": {},
   "outputs": [],
   "source": []
  }
 ],
 "metadata": {
  "kernelspec": {
   "display_name": "Python 3",
   "language": "python",
   "name": "python3"
  },
  "language_info": {
   "codemirror_mode": {
    "name": "ipython",
    "version": 3
   },
   "file_extension": ".py",
   "mimetype": "text/x-python",
   "name": "python",
   "nbconvert_exporter": "python",
   "pygments_lexer": "ipython3",
   "version": "3.7.3"
  }
 },
 "nbformat": 4,
 "nbformat_minor": 4
}
