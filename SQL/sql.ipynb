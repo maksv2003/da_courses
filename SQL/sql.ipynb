{
 "cells": [
  {
   "cell_type": "code",
   "execution_count": 41,
   "metadata": {},
   "outputs": [
    {
     "data": {
      "text/plain": [
       "phone                    1361\n",
       "email                    1345\n",
       "reviews                  1309\n",
       "government_id            1196\n",
       "jumio                    1115\n",
       "offline_government_id     469\n",
       "work_email                279\n",
       "facebook                  270\n",
       "selfie                    252\n",
       "identity_manual           227\n",
       "manual_offline             70\n",
       "google                     34\n",
       "kba                        27\n",
       "manual_online              16\n",
       "sent_id                     6\n",
       "Name: host_verifications, dtype: int64"
      ]
     },
     "execution_count": 41,
     "metadata": {},
     "output_type": "execute_result"
    }
   ],
   "source": [
    "#pip install pandahouse  # если библиотека ещё не установлена\n",
    "import pandahouse as ph\n",
    "import seaborn as sns\n",
    "import matplotlib.pyplot as plt\n",
    "import ast\n",
    "import numpy as np\n",
    "import pandas as pd\n",
    "connection_default = {'host': 'https://clickhouse.lab.karpov.courses',\n",
    "                      'database':'default',\n",
    "                      'user':'student', \n",
    "                      'password':'dpo_python_2020'\n",
    "                     }\n",
    "# создаем запрос, db автоматически заменится на значение из database\n",
    "q = '''\n",
    "    SELECT\n",
    "        DISTINCT host_id,\n",
    "        host_verifications\n",
    "    FROM\n",
    "        ldn_listings\n",
    "    WHERE experiences_offered != 'none'\n",
    "    '''\n",
    "\n",
    "# отправляем запрос и записываем результат в пандасовский датафрейм\n",
    "df = ph.read_clickhouse(query=q, connection=connection_default)\n",
    "df['host_verifications'] = df['host_verifications'].apply(lambda x: eval(x) if pd.notnull(x) else x)\n",
    "df = df.explode('host_verifications')\n",
    "counts = df['host_verifications'].value_counts()\n",
    "count = counts.get('google', 0)\n",
    "counts"
   ]
  },
  {
   "cell_type": "code",
   "execution_count": null,
   "metadata": {},
   "outputs": [],
   "source": []
  }
 ],
 "metadata": {
  "kernelspec": {
   "display_name": "Python 3",
   "language": "python",
   "name": "python3"
  },
  "language_info": {
   "codemirror_mode": {
    "name": "ipython",
    "version": 3
   },
   "file_extension": ".py",
   "mimetype": "text/x-python",
   "name": "python",
   "nbconvert_exporter": "python",
   "pygments_lexer": "ipython3",
   "version": "3.7.3"
  }
 },
 "nbformat": 4,
 "nbformat_minor": 4
}
