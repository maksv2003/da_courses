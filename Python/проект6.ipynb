{
 "cells": [
  {
   "cell_type": "code",
   "execution_count": 122,
   "metadata": {},
   "outputs": [
    {
     "data": {
      "text/plain": [
       "<matplotlib.axes._subplots.AxesSubplot at 0x7f3914528e48>"
      ]
     },
     "execution_count": 122,
     "metadata": {},
     "output_type": "execute_result"
    },
    {
     "data": {
      "image/png": "[encoded data removed]",
      "text/plain": [
       "<Figure size 432x288 with 1 Axes>"
      ]
     },
     "metadata": {
      "needs_background": "light"
     },
     "output_type": "display_data"
    }
   ],
   "source": [
    "import pandas as pd\n",
    "import numpy as np\n",
    "%matplotlib inline\n",
    "import matplotlib.pyplot as plt\n",
    "import seaborn as sns\n",
    "import plotly.express as px\n",
    "ads_data         = pd.read_csv('/mnt/HC_Volume_18315164/home-jupyter/jupyter-a-zakorko/shared/homeworks/python_ds_miniprojects/6/ads_data.csv')\n",
    "ads_clients_data = pd.read_csv('/mnt/HC_Volume_18315164/home-jupyter/jupyter-a-zakorko/shared/homeworks/python_ds_miniprojects/6/ads_clients_data.csv')\n",
    "# df = ads_data.query(\"event == 'view'\")\n",
    "# df['count1']=1\n",
    "# df = df.groupby(['ad_id','date'],as_index=False).agg({'count1':'count'})\n",
    "# df = df.groupby('date',as_index=False).agg({'count1':'mean'})\n",
    "# df = (df.count1 - df.count1.rolling(2).mean()).abs()\n",
    "# df\n",
    "\n",
    "\n",
    "\n",
    "#Конвертация дат в формат datetime\n",
    "ads_data['date'] = pd.to_datetime(ads_data['date'])\n",
    "ads_clients_data['create_date'] = pd.to_datetime(ads_clients_data['create_date'])\n",
    "\n",
    "#Объединение данных о рекламе и рекламных клиентах по client_union_id\n",
    "merged_data = pd.merge(ads_data, ads_clients_data, on='client_union_id')\n",
    "merged_data\n",
    "# #Вычисляем разницу в днях между датой создания клиента и датой запуска первой рекламы\n",
    "# merged_data['days_difference'] = (merged_data['date_x'] - merged_data['create_date']).dt.days\n",
    "\n",
    "# #3Группируем данные по client_union_id, чтобы найти первую дату показа рекламы для каждого клиента\n",
    "# first_ad_date = merged_data[merged_data['event'] == 'view'].groupby('client_union_id')['date_x'].min().reset_index()\n",
    "\n",
    "# #Объединяем данные о первом показе с данными о создании клиента\n",
    "# first_ad_date = pd.merge(first_ad_date, ads_clients_data, on='client_union_id')\n",
    "\n",
    "# #Вычисляем разницу в днях для каждого клиента\n",
    "# first_ad_date['days_difference'] = (first_ad_date['date_x'] - first_ad_date['create_date']).dt.days\n",
    "\n",
    "# #Находим среднее значение разницы в днях\n",
    "# average_days = first_ad_date['days_difference'].mean()\n",
    "# average_days\n",
    "# merged_data['date']= (merged_data.date_x-merged_data.create_date).dt.days\n",
    "# merged_data.query('date<=365')\n",
    "\n",
    "\n",
    "\n",
    "# #Отфильтровываем тех клиентов, которые запустили рекламу в течение 365 дней\n",
    "# conversion_data = merged_data[merged_data['days_difference'] <= 365]\n",
    "\n",
    "# #Группируем данные по client_union_id, чтобы найти клиентов, запустивших рекламу\n",
    "# clients_with_ads = conversion_data.groupby('client_union_id').size().reset_index(name='ads_count')\n",
    "\n",
    "# #Находим общее число клиентов, создавших кабинет\n",
    "# total_clients = ads_clients_data['client_union_id'].nunique()\n",
    "\n",
    "# #Находим число клиентов, запустивших рекламу\n",
    "# clients_started_ads = clients_with_ads['client_union_id'].nunique()\n",
    "\n",
    "# #Вычисляем конверсию\n",
    "# conversion_rate = (clients_started_ads / total_clients) * 100\n",
    "\n",
    "# #Округляем до двух знаков после запятой\n",
    "# conversion_rate = round(conversion_rate, 2)\n",
    "# conversion_rate\n",
    "\n",
    "\n",
    "\n",
    "\n",
    "\n",
    "\n",
    "\n",
    "#Определение бинов для категорий\n",
    "bins = [pd.Timedelta(days=0), pd.Timedelta(days=30), pd.Timedelta(days=90), pd.Timedelta(days=180), pd.Timedelta(days=365)]\n",
    "\n",
    "#Определение названий для категорий\n",
    "labels = ['0-30', '30-90', '90-180', '180-365']\n",
    "\n",
    "#Создание новой категориальной колонки в DataFrame\n",
    "merged_data['date']= (merged_data.date_x-merged_data.create_date)\n",
    "merged_data['date1'] = pd.cut(merged_data['date'], bins=bins, labels=labels, right=False)\n",
    "merged_data = merged_data.groupby('date1',as_index=False).agg({'ad_id':'nunique'})\n",
    "sns.barplot(data=merged_data, x = 'date1', y = 'ad_id')"
   ]
  },
  {
   "cell_type": "code",
   "execution_count": null,
   "metadata": {},
   "outputs": [],
   "source": []
  }
 ],
 "metadata": {
  "kernelspec": {
   "display_name": "Python 3",
   "language": "python",
   "name": "python3"
  },
  "language_info": {
   "codemirror_mode": {
    "name": "ipython",
    "version": 3
   },
   "file_extension": ".py",
   "mimetype": "text/x-python",
   "name": "python",
   "nbconvert_exporter": "python",
   "pygments_lexer": "ipython3",
   "version": "3.7.3"
  }
 },
 "nbformat": 4,
 "nbformat_minor": 4
}
