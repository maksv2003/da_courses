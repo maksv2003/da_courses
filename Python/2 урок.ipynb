{
 "cells": [
  {
   "cell_type": "code",
   "execution_count": 189,
   "metadata": {},
   "outputs": [],
   "source": [
    "import pandas as pd\n",
    "import os\n",
    "\n",
    "data_folder = ('/mnt/HC_Volume_18315164/home-jupyter/jupyter-m-vinokurov/shared/homeworks/python_ds_miniprojects/4/data/')  # Указать правильный путь к папке 'data'\n",
    "all_data = []  # Список для хранения всех датафреймов\n",
    "\n",
    "#Проходим по всем файлам в папке data и ее подпапках\n",
    "for root, dirs, files in os.walk(data_folder):\n",
    "    for file in files:\n",
    "        file_path = os.path.join(root, file)\n",
    "        # Предполагаем, что файлы содержат данные в формате CSV\n",
    "        df = pd.read_csv(file_path)\n",
    "        # Получаем имя пользователя и дату из пути\n",
    "        path_parts = root.split(os.sep)\n",
    "        df['name'] = path_parts[-1]  # Имя пользователя - последний элемент в пути\n",
    "        df['date'] = path_parts[-2]  # Дата - предпоследний элемент в пути\n",
    "        all_data.append(df)\n",
    "\n",
    "#Объединяем все датафреймы в один\n",
    "final_df = pd.concat(all_data, ignore_index=True)\n",
    "\n",
    "#Просмотр результата\n",
    "final_df.drop(columns=['Unnamed: 0'], inplace=True)\n"
   ]
  },
  {
   "cell_type": "code",
   "execution_count": null,
   "metadata": {},
   "outputs": [],
   "source": []
  }
 ],
 "metadata": {
  "kernelspec": {
   "display_name": "Python 3",
   "language": "python",
   "name": "python3"
  },
  "language_info": {
   "codemirror_mode": {
    "name": "ipython",
    "version": 3
   },
   "file_extension": ".py",
   "mimetype": "text/x-python",
   "name": "python",
   "nbconvert_exporter": "python",
   "pygments_lexer": "ipython3",
   "version": "3.7.3"
  }
 },
 "nbformat": 4,
 "nbformat_minor": 4
}
