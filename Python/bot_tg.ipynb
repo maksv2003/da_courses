{
 "cells": [
  {
   "cell_type": "code",
   "execution_count": 89,
   "metadata": {},
   "outputs": [],
   "source": [
    "from io import BytesIO\n",
    "import requests\n",
    "import pandas as pd\n",
    "import numpy as np\n",
    "#req = requests.get('https://docs.google.com/spreadsheets/d/1e3PRXmMNXo9AZZnaol1aHgYxtH6KYaCDymEQlK6jaO8/export?format=csv')\n",
    "#data = req.content\n",
    "\n",
    "#df = pd.read_csv(BytesIO(data))\n",
    "df = pd.read_csv('/mnt/HC_Volume_18315164/home-jupyter/jupyter-m-vinokurov/7_browser.csv')\n",
    "#df\n",
    "\n",
    "#df['chrome_robots'] = np.where((df.browser.str.contains('Chrome')) & (df.user_type == 'Robots'), 1, 0)\n",
    "#df\n",
    "\n",
    "\n",
    "\n",
    "\n",
    "#df = pd.read_csv('/mnt/HC_Volume_18315164/home-jupyter/jupyter-m-vinokurov/sample_ads.csv')\n",
    "#df\n",
    "#not_nan_count = df.click_type.notna().sum()\n",
    "#not_nan_count\n",
    "\n",
    "import requests\n",
    "import json\n",
    "from urllib.parse import urlencode\n",
    "\n",
    "\n",
    "token = '6911302280:AAHcmTA1odBKk8KxZHeVSKFxveyW2-epVRU'\n",
    "chat_id = 449814684  # your chat id\n",
    "message = 'hi'  # text which you want to send\n",
    "params = {'chat_id': chat_id, 'text': message}\n",
    "base_url = f'https://api.telegram.org/bot6911302280:AAHcmTA1odBKk8KxZHeVSKFxveyW2-epVRU/'\n",
    "url = base_url + 'sendMessage?' + urlencode(params)\n",
    "resp = requests.get(url)\n"
   ]
  },
  {
   "cell_type": "markdown",
   "metadata": {},
   "source": [
    " "
   ]
  }
 ],
 "metadata": {
  "kernelspec": {
   "display_name": "Python 3",
   "language": "python",
   "name": "python3"
  },
  "language_info": {
   "codemirror_mode": {
    "name": "ipython",
    "version": 3
   },
   "file_extension": ".py",
   "mimetype": "text/x-python",
   "name": "python",
   "nbconvert_exporter": "python",
   "pygments_lexer": "ipython3",
   "version": "3.7.3"
  }
 },
 "nbformat": 4,
 "nbformat_minor": 4
}
