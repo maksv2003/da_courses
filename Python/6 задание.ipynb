{
 "cells": [
  {
   "cell_type": "code",
   "execution_count": 96,
   "metadata": {},
   "outputs": [
    {
     "data": {
      "text/html": [
       "<div>\n",
       "<style scoped>\n",
       "    .dataframe tbody tr th:only-of-type {\n",
       "        vertical-align: middle;\n",
       "    }\n",
       "\n",
       "    .dataframe tbody tr th {\n",
       "        vertical-align: top;\n",
       "    }\n",
       "\n",
       "    .dataframe thead th {\n",
       "        text-align: right;\n",
       "    }\n",
       "</style>\n",
       "<table border=\"1\" class=\"dataframe\">\n",
       "  <thead>\n",
       "    <tr style=\"text-align: right;\">\n",
       "      <th></th>\n",
       "      <th>delay_categorical</th>\n",
       "      <th>client_id</th>\n",
       "    </tr>\n",
       "  </thead>\n",
       "  <tbody>\n",
       "    <tr>\n",
       "      <th>2</th>\n",
       "      <td>2-3 days</td>\n",
       "      <td>47</td>\n",
       "    </tr>\n",
       "    <tr>\n",
       "      <th>1</th>\n",
       "      <td>1-2 days</td>\n",
       "      <td>51</td>\n",
       "    </tr>\n",
       "    <tr>\n",
       "      <th>0</th>\n",
       "      <td>less than 1 day</td>\n",
       "      <td>59</td>\n",
       "    </tr>\n",
       "    <tr>\n",
       "      <th>3</th>\n",
       "      <td>more than 3 days</td>\n",
       "      <td>107</td>\n",
       "    </tr>\n",
       "  </tbody>\n",
       "</table>\n",
       "</div>"
      ],
      "text/plain": [
       "  delay_categorical  client_id\n",
       "2          2-3 days         47\n",
       "1          1-2 days         51\n",
       "0   less than 1 day         59\n",
       "3  more than 3 days        107"
      ]
     },
     "execution_count": 96,
     "metadata": {},
     "output_type": "execute_result"
    }
   ],
   "source": [
    "import pandas as pd\n",
    "import numpy as np\n",
    "%matplotlib inline\n",
    "import matplotlib.pyplot as plt\n",
    "import seaborn as sns\n",
    "import plotly.express as px\n",
    "# avocado_mean = pd.read_csv('/mnt/HC_Volume_18315164/home-jupyter/jupyter-m-vinokurov/avocado_full.csv', parse_dates=['Date'])\n",
    "# avocado_mean = avocado_mean.query(\"type == 'organic' and region == 'Chicago'\")\n",
    "# avocado_mean1 = avocado_mean.groupby('Date').agg({'AveragePrice':'mean'}).ewm(span=4).mean()\n",
    "# avocado_mean1 = avocado_mean1.reset_index()\n",
    "# avocado_mean = avocado_mean.groupby('Date').agg({'AveragePrice':'mean'}).rolling(4).mean() #скользящее среднее\n",
    "# avocado_mean = avocado_mean.reset_index()\n",
    "# sns.set(rc={'figure.figsize':(11.7,8.27)})\n",
    "# sns.lineplot(avocado_mean1.Date, avocado_mean1.AveragePrice)\n",
    "# sns.lineplot(avocado_mean.Date, avocado_mean.AveragePrice)\n",
    "# avocado_mean.query('Date == \"2017-02-19\"')\n",
    "\n",
    "df = pd.read_csv('/mnt/HC_Volume_18315164/home-jupyter/jupyter-m-vinokurov/delays.csv')\n",
    "df.delay = df.delay.str.replace('-', '')\n",
    "df.delay = pd.to_timedelta(df['delay'])\n",
    "df['delay_categorical'] = pd.cut(df.delay, bins=4)\n",
    "\n",
    "bins = [pd.Timedelta(days=0), pd.Timedelta(days=1), pd.Timedelta(days=2), pd.Timedelta(days=3), pd.Timedelta(days=999)]\n",
    "labels = ['less than 1 day', '1-2 days', '2-3 days', 'more than 3 days']\n",
    "df['delay_categorical'] = pd.cut(df['delay'], bins=bins, labels=labels)\n",
    "df.groupby('delay_categorical',as_index=False).agg({'client_id':'count'}).sort_values('client_id')"
   ]
  },
  {
   "cell_type": "code",
   "execution_count": null,
   "metadata": {},
   "outputs": [],
   "source": []
  }
 ],
 "metadata": {
  "kernelspec": {
   "display_name": "Python 3",
   "language": "python",
   "name": "python3"
  },
  "language_info": {
   "codemirror_mode": {
    "name": "ipython",
    "version": 3
   },
   "file_extension": ".py",
   "mimetype": "text/x-python",
   "name": "python",
   "nbconvert_exporter": "python",
   "pygments_lexer": "ipython3",
   "version": "3.7.3"
  }
 },
 "nbformat": 4,
 "nbformat_minor": 4
}
