{
 "cells": [
  {
   "cell_type": "code",
   "execution_count": 7,
   "metadata": {},
   "outputs": [
    {
     "data": {
      "text/plain": [
       "'Edo period (1615–1868)'"
      ]
     },
     "execution_count": 7,
     "metadata": {},
     "output_type": "execute_result"
    }
   ],
   "source": [
    "import requests\n",
    "import pandas as pd\n",
    "import seaborn as sns\n",
    "import matplotlib.pyplot as plt\n",
    "\n",
    "\n",
    "#5 задание\n",
    "# Запрос к API для получения списка ID\n",
    "response = requests.get('https://collectionapi.metmuseum.org/public/collection/v1/search?departmentId=6&q=cat')\n",
    "data = response.json()\n",
    "cat_ids = data.get('objectIDs', [])[:1000] # Получение первых 1000 ID\n",
    "\n",
    "# Сбор данных о каждом объекте\n",
    "objects_data = []\n",
    "for object_id in cat_ids:\n",
    "    object_url = f'https://collectionapi.metmuseum.org/public/collection/v1/objects/{object_id}'\n",
    "    response = requests.get(object_url)\n",
    "    data = response.json()\n",
    "\n",
    "    object_info = {\n",
    "        \"objectID\": data.get(\"objectID\"),\n",
    "        \"title\": data.get(\"title\"),\n",
    "        \"artistDisplayName\": data.get(\"artistDisplayName\"),\n",
    "        \"department\": data.get(\"department\"),\n",
    "        \"objectBeginDate\": data.get(\"objectBeginDate\"),\n",
    "        \"objectEndDate\": data.get(\"objectEndDate\"),\n",
    "        \"period\": data.get(\"period\"),\n",
    "        \"objectName\": data.get(\"objectName\"),\n",
    "        \"culture\": data.get(\"culture\")\n",
    "        }\n",
    "\n",
    "    objects_data.append(object_info)\n",
    "\n",
    "# Создание датафрейма\n",
    "df = pd.DataFrame(objects_data)\n",
    "\n",
    "# Анализ данных\n",
    "most_common_period = df['period'].value_counts().idxmax()\n",
    "most_common_period\n"
   ]
  },
  {
   "cell_type": "code",
   "execution_count": null,
   "metadata": {},
   "outputs": [],
   "source": []
  }
 ],
 "metadata": {
  "kernelspec": {
   "display_name": "Python 3",
   "language": "python",
   "name": "python3"
  },
  "language_info": {
   "codemirror_mode": {
    "name": "ipython",
    "version": 3
   },
   "file_extension": ".py",
   "mimetype": "text/x-python",
   "name": "python",
   "nbconvert_exporter": "python",
   "pygments_lexer": "ipython3",
   "version": "3.7.3"
  }
 },
 "nbformat": 4,
 "nbformat_minor": 4
}
