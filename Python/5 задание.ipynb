{
 "cells": [
  {
   "cell_type": "code",
   "execution_count": 7,
   "metadata": {
    "scrolled": true
   },
   "outputs": [
    {
     "name": "stdout",
     "output_type": "stream",
     "text": [
      "SUBS_ID из полученного датасета в порядке возрастания: id2185490, id4651830, id5416547, id7461794, id7642700, id8641743, id8741631\n"
     ]
    }
   ],
   "source": [
    "# import pandas as pd\n",
    "# retail = pd.read_csv('/mnt/HC_Volume_18315164/home-jupyter/jupyter-m-vinokurov/5_data.csv.zip', encoding='ISO-8859-1')\n",
    "# retail = retail.drop_duplicates()\n",
    "# retail.InvoiceNo.str.startswith('C').sum()\n",
    "# retaild = retail.query(\"Country == 'Germany'\")\n",
    "# retaild = retaild.groupby('CustomerID', as_index=False).agg({'InvoiceNo':'nunique'})\n",
    "# a = retaild.InvoiceNo.quantile(0.8)\n",
    "# retaild = retaild.query('InvoiceNo>@a')\n",
    "# germany_top = retaild.CustomerID\n",
    "# top_retail_germany = retail.query('CustomerID in @germany_top')\n",
    "# top_retail_germany = top_retail_germany.query(\"StockCode!='POST'\")\n",
    "# top_retail_germany = top_retail_germany.groupby('StockCode').agg({'CustomerID':'count'}).idxmax()\n",
    "# top_retail_germany\n",
    "\n",
    "\n",
    "\n",
    "import os\n",
    "import pandas as pd\n",
    "\n",
    "# Функция для коррекции SUBS_ID\n",
    "def fix_subs_id(subs_id):\n",
    "    if 'id' not in str(subs_id):\n",
    "        return 'id' + str(subs_id)\n",
    "    return subs_id\n",
    "\n",
    "# Папка с файлами продаж\n",
    "sales_folder = 'shared/homeworks/python_ds_miniprojects/5_subsid/subsid/'\n",
    "\n",
    "# Список для хранения DataFrame из каждого файла\n",
    "dfs = []\n",
    "\n",
    "# Чтение файлов и создание DataFrame\n",
    "for file in os.listdir(sales_folder):\n",
    "    if file.endswith('.csv'):\n",
    "        file_path = os.path.join(sales_folder, file)\n",
    "        df = pd.read_csv(file_path, delimiter=';')\n",
    "\n",
    "        # Проверка наличия SUBS_ID и добавление 'id', если необходимо\n",
    "        if 'SUBS_ID' in df.columns:\n",
    "            df['SUBS_ID'] = df['SUBS_ID'].apply(fix_subs_id)\n",
    "\n",
    "        # Добавление DataFrame в список\n",
    "        dfs.append(df)\n",
    "\n",
    "# Объединение всех DataFrame\n",
    "result_df = pd.concat(dfs, ignore_index=True)\n",
    "\n",
    "# Пробуем определить формат даты вручную\n",
    "try:\n",
    "    result_df['START_DTTM'] = pd.to_datetime(result_df['START_DTTM'], format='%d-%m-%Y %H:%M', errors='raise')\n",
    "    result_df['END_DTTM'] = pd.to_datetime(result_df['END_DTTM'], format='%d-%m-%Y %H:%M', errors='raise')\n",
    "except ValueError as e:\n",
    "    print(f\"Ошибка при попытке преобразования даты: {e}\")\n",
    "    raise\n",
    "\n",
    "# Рассчитываем разницу между START_DTTM и END_DTTM\n",
    "result_df['difference'] = result_df['END_DTTM'] - result_df['START_DTTM']\n",
    "\n",
    "# Фильтруем продажи, где разница больше 5 минут\n",
    "filtered_df = result_df[result_df['difference'] >= pd.Timedelta(minutes=5)]\n",
    "\n",
    "# Сохраняем результат в CSV файл\n",
    "filtered_df.to_csv('result.csv', sep=';', index=False)\n",
    "\n",
    "# Вывод SUBS_ID в порядке возрастания\n",
    "sorted_subs_id = filtered_df['SUBS_ID'].sort_values().unique()\n",
    "subs_id_str = ', '.join(sorted_subs_id)\n",
    "\n",
    "print(f\"SUBS_ID из полученного датасета в порядке возрастания: {subs_id_str}\")"
   ]
  },
  {
   "cell_type": "code",
   "execution_count": 93,
   "metadata": {},
   "outputs": [
    {
     "data": {
      "text/html": [
       "<div>\n",
       "<style scoped>\n",
       "    .dataframe tbody tr th:only-of-type {\n",
       "        vertical-align: middle;\n",
       "    }\n",
       "\n",
       "    .dataframe tbody tr th {\n",
       "        vertical-align: top;\n",
       "    }\n",
       "\n",
       "    .dataframe thead th {\n",
       "        text-align: right;\n",
       "    }\n",
       "</style>\n",
       "<table border=\"1\" class=\"dataframe\">\n",
       "  <thead>\n",
       "    <tr style=\"text-align: right;\">\n",
       "      <th></th>\n",
       "      <th>InvoiceNo</th>\n",
       "      <th>Revenue</th>\n",
       "    </tr>\n",
       "  </thead>\n",
       "  <tbody>\n",
       "    <tr>\n",
       "      <th>9741</th>\n",
       "      <td>556444</td>\n",
       "      <td>38970.00</td>\n",
       "    </tr>\n",
       "    <tr>\n",
       "      <th>19468</th>\n",
       "      <td>576365</td>\n",
       "      <td>50653.91</td>\n",
       "    </tr>\n",
       "    <tr>\n",
       "      <th>18776</th>\n",
       "      <td>574941</td>\n",
       "      <td>52940.94</td>\n",
       "    </tr>\n",
       "    <tr>\n",
       "      <th>2303</th>\n",
       "      <td>541431</td>\n",
       "      <td>77183.60</td>\n",
       "    </tr>\n",
       "    <tr>\n",
       "      <th>22025</th>\n",
       "      <td>581483</td>\n",
       "      <td>168469.60</td>\n",
       "    </tr>\n",
       "  </tbody>\n",
       "</table>\n",
       "</div>"
      ],
      "text/plain": [
       "      InvoiceNo    Revenue\n",
       "9741     556444   38970.00\n",
       "19468    576365   50653.91\n",
       "18776    574941   52940.94\n",
       "2303     541431   77183.60\n",
       "22025    581483  168469.60"
      ]
     },
     "execution_count": 93,
     "metadata": {},
     "output_type": "execute_result"
    }
   ],
   "source": [
    "# import pandas as pd\n",
    "# retail = pd.read_csv('/mnt/HC_Volume_18315164/home-jupyter/jupyter-m-vinokurov/5_data.csv.zip', encoding='ISO-8859-1')\n",
    "# retail = retail.drop_duplicates()\n",
    "# retail['Revenue']=retail.Quantity * retail.UnitPrice\n",
    "# retail.query\n",
    "# retail.groupby('InvoiceNo',as_index=False).agg({'Revenue':'sum'}).sort_values(by=['Revenue']).tail(5)"
   ]
  },
  {
   "cell_type": "code",
   "execution_count": null,
   "metadata": {},
   "outputs": [],
   "source": []
  }
 ],
 "metadata": {
  "kernelspec": {
   "display_name": "Python 3",
   "language": "python",
   "name": "python3"
  },
  "language_info": {
   "codemirror_mode": {
    "name": "ipython",
    "version": 3
   },
   "file_extension": ".py",
   "mimetype": "text/x-python",
   "name": "python",
   "nbconvert_exporter": "python",
   "pygments_lexer": "ipython3",
   "version": "3.7.3"
  }
 },
 "nbformat": 4,
 "nbformat_minor": 4
}
