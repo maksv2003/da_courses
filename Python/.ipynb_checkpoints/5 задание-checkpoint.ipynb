{
 "cells": [
  {
   "cell_type": "code",
   "execution_count": 85,
   "metadata": {
    "scrolled": true
   },
   "outputs": [
    {
     "data": {
      "text/plain": [
       "CustomerID    22326\n",
       "dtype: object"
      ]
     },
     "execution_count": 85,
     "metadata": {},
     "output_type": "execute_result"
    }
   ],
   "source": [
    "import pandas as pd\n",
    "retail = pd.read_csv('/mnt/HC_Volume_18315164/home-jupyter/jupyter-m-vinokurov/5_data.csv.zip', encoding='ISO-8859-1')\n",
    "retail = retail.drop_duplicates()\n",
    "retail.InvoiceNo.str.startswith('C').sum()\n",
    "retaild = retail.query(\"Country == 'Germany'\")\n",
    "retaild = retaild.groupby('CustomerID', as_index=False).agg({'InvoiceNo':'nunique'})\n",
    "a = retaild.InvoiceNo.quantile(0.8)\n",
    "retaild = retaild.query('InvoiceNo>@a')\n",
    "germany_top = retaild.CustomerID\n",
    "top_retail_germany = retail.query('CustomerID in @germany_top')\n",
    "top_retail_germany = top_retail_germany.query(\"StockCode!='POST'\")\n",
    "top_retail_germany = top_retail_germany.groupby('StockCode').agg({'CustomerID':'count'}).idxmax()\n",
    "top_retail_germany"
   ]
  },
  {
   "cell_type": "code",
   "execution_count": 93,
   "metadata": {},
   "outputs": [
    {
     "data": {
      "text/html": [
       "<div>\n",
       "<style scoped>\n",
       "    .dataframe tbody tr th:only-of-type {\n",
       "        vertical-align: middle;\n",
       "    }\n",
       "\n",
       "    .dataframe tbody tr th {\n",
       "        vertical-align: top;\n",
       "    }\n",
       "\n",
       "    .dataframe thead th {\n",
       "        text-align: right;\n",
       "    }\n",
       "</style>\n",
       "<table border=\"1\" class=\"dataframe\">\n",
       "  <thead>\n",
       "    <tr style=\"text-align: right;\">\n",
       "      <th></th>\n",
       "      <th>InvoiceNo</th>\n",
       "      <th>Revenue</th>\n",
       "    </tr>\n",
       "  </thead>\n",
       "  <tbody>\n",
       "    <tr>\n",
       "      <th>9741</th>\n",
       "      <td>556444</td>\n",
       "      <td>38970.00</td>\n",
       "    </tr>\n",
       "    <tr>\n",
       "      <th>19468</th>\n",
       "      <td>576365</td>\n",
       "      <td>50653.91</td>\n",
       "    </tr>\n",
       "    <tr>\n",
       "      <th>18776</th>\n",
       "      <td>574941</td>\n",
       "      <td>52940.94</td>\n",
       "    </tr>\n",
       "    <tr>\n",
       "      <th>2303</th>\n",
       "      <td>541431</td>\n",
       "      <td>77183.60</td>\n",
       "    </tr>\n",
       "    <tr>\n",
       "      <th>22025</th>\n",
       "      <td>581483</td>\n",
       "      <td>168469.60</td>\n",
       "    </tr>\n",
       "  </tbody>\n",
       "</table>\n",
       "</div>"
      ],
      "text/plain": [
       "      InvoiceNo    Revenue\n",
       "9741     556444   38970.00\n",
       "19468    576365   50653.91\n",
       "18776    574941   52940.94\n",
       "2303     541431   77183.60\n",
       "22025    581483  168469.60"
      ]
     },
     "execution_count": 93,
     "metadata": {},
     "output_type": "execute_result"
    }
   ],
   "source": [
    "import pandas as pd\n",
    "retail = pd.read_csv('/mnt/HC_Volume_18315164/home-jupyter/jupyter-m-vinokurov/5_data.csv.zip', encoding='ISO-8859-1')\n",
    "retail = retail.drop_duplicates()\n",
    "retail['Revenue']=retail.Quantity * retail.UnitPrice\n",
    "retail.query\n",
    "retail.groupby('InvoiceNo',as_index=False).agg({'Revenue':'sum'}).sort_values(by=['Revenue']).tail(5)"
   ]
  },
  {
   "cell_type": "code",
   "execution_count": null,
   "metadata": {},
   "outputs": [],
   "source": []
  }
 ],
 "metadata": {
  "kernelspec": {
   "display_name": "Python 3",
   "language": "python",
   "name": "python3"
  },
  "language_info": {
   "codemirror_mode": {
    "name": "ipython",
    "version": 3
   },
   "file_extension": ".py",
   "mimetype": "text/x-python",
   "name": "python",
   "nbconvert_exporter": "python",
   "pygments_lexer": "ipython3",
   "version": "3.7.3"
  }
 },
 "nbformat": 4,
 "nbformat_minor": 4
}
