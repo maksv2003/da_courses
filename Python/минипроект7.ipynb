{
 "cells": [
  {
   "cell_type": "code",
   "execution_count": 71,
   "metadata": {},
   "outputs": [
    {
     "data": {
      "text/plain": [
       "0.42448979591836733"
      ]
     },
     "execution_count": 71,
     "metadata": {},
     "output_type": "execute_result"
    }
   ],
   "source": [
    "import pandas as pd\n",
    "import seaborn as sns\n",
    "#df = pd.read_csv('/mnt/HC_Volume_18315164/home-jupyter/jupyter-m-vinokurov/step_1_lesson_7.csv')\n",
    "#df\n",
    "\n",
    "#df = pd.read_csv('/mnt/HC_Volume_18315164/home-jupyter/jupyter-m-vinokurov/step_2_lesson_7.csv')\n",
    "#round((df.query(\"browser == 'Google Chrome'\").visits.sum()/df.visits.sum())*100) #3номер\n",
    "\n",
    "\n",
    "#df = pd.read_csv('/mnt/HC_Volume_18315164/home-jupyter/jupyter-m-vinokurov/step_3_lesson_7.csv')\n",
    "#df.groupby(['browser','user_type'], as_index=False).agg({'visits': 'sum'}).sort_values('browser')\n",
    "\n",
    "\n",
    "\n",
    "df1 = pd.read_csv('/mnt/HC_Volume_18315164/home-jupyter/jupyter-m-vinokurov/step_4_lesson_7.csv')\n",
    "#a = (df.query(\"browser == 'Safari' and user_type == 'People'\").visits.sum()/df.visits.sum())*100\n",
    "#a.round(1)\n",
    "\n",
    "\n",
    "from io import BytesIO\n",
    "import requests\n",
    "r = requests.get('https://docs.google.com/spreadsheets/d/e/2PACX-1vQWMsvBTVio9C7IOOxfFO9C15BRHyME-_ENHqBodDOjuiHwk9fCuF5hUVmDs497PZOqPYK3exdSikOK/pub?gid=1006633900&single=true&output=csv')\n",
    "data = r.content\n",
    "\n",
    "df = pd.read_csv(BytesIO(data))\n",
    "merged_data = pd.merge(df, df1, on=['date', 'browser', 'user_type'], how='inner')\n",
    "merged_data\n",
    "208/490"
   ]
  },
  {
   "cell_type": "code",
   "execution_count": null,
   "metadata": {},
   "outputs": [],
   "source": []
  }
 ],
 "metadata": {
  "kernelspec": {
   "display_name": "Python 3",
   "language": "python",
   "name": "python3"
  },
  "language_info": {
   "codemirror_mode": {
    "name": "ipython",
    "version": 3
   },
   "file_extension": ".py",
   "mimetype": "text/x-python",
   "name": "python",
   "nbconvert_exporter": "python",
   "pygments_lexer": "ipython3",
   "version": "3.7.3"
  }
 },
 "nbformat": 4,
 "nbformat_minor": 4
}
